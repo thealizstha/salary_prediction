{
 "cells": [
  {
   "cell_type": "code",
   "execution_count": 1,
   "id": "6eca01fd",
   "metadata": {
    "id": "6eca01fd"
   },
   "outputs": [],
   "source": [
    "# !pip install seaborn"
   ]
  },
  {
   "cell_type": "code",
   "execution_count": 2,
   "id": "13c4a383",
   "metadata": {
    "executionInfo": {
     "elapsed": 1130,
     "status": "ok",
     "timestamp": 1696505151049,
     "user": {
      "displayName": "Aayush Adhikari",
      "userId": "12220140506292291733"
     },
     "user_tz": -345
    },
    "id": "13c4a383"
   },
   "outputs": [],
   "source": [
    "import numpy as np\n",
    "import pandas as pd\n",
    "import matplotlib.pyplot as plt\n",
    "import seaborn as sns\n",
    "%matplotlib inline\n",
    "from matplotlib.pyplot import xticks\n",
    "from matplotlib.pyplot import yticks"
   ]
  },
  {
   "cell_type": "code",
   "execution_count": 3,
   "id": "6c636fc4",
   "metadata": {
    "colab": {
     "base_uri": "https://localhost:8080/",
     "height": 423
    },
    "executionInfo": {
     "elapsed": 4,
     "status": "ok",
     "timestamp": 1696505151050,
     "user": {
      "displayName": "Aayush Adhikari",
      "userId": "12220140506292291733"
     },
     "user_tz": -345
    },
    "id": "6c636fc4",
    "outputId": "821bc0b7-3829-4876-c754-c99ee784268a"
   },
   "outputs": [
    {
     "data": {
      "text/html": [
       "<div>\n",
       "<style scoped>\n",
       "    .dataframe tbody tr th:only-of-type {\n",
       "        vertical-align: middle;\n",
       "    }\n",
       "\n",
       "    .dataframe tbody tr th {\n",
       "        vertical-align: top;\n",
       "    }\n",
       "\n",
       "    .dataframe thead th {\n",
       "        text-align: right;\n",
       "    }\n",
       "</style>\n",
       "<table border=\"1\" class=\"dataframe\">\n",
       "  <thead>\n",
       "    <tr style=\"text-align: right;\">\n",
       "      <th></th>\n",
       "      <th>Age</th>\n",
       "      <th>Gender</th>\n",
       "      <th>Education Level</th>\n",
       "      <th>Job Title</th>\n",
       "      <th>Years of Experience</th>\n",
       "      <th>Salary</th>\n",
       "    </tr>\n",
       "  </thead>\n",
       "  <tbody>\n",
       "    <tr>\n",
       "      <th>0</th>\n",
       "      <td>32.0</td>\n",
       "      <td>Male</td>\n",
       "      <td>Bachelor's</td>\n",
       "      <td>Software Engineer</td>\n",
       "      <td>5.0</td>\n",
       "      <td>90000.0</td>\n",
       "    </tr>\n",
       "    <tr>\n",
       "      <th>1</th>\n",
       "      <td>28.0</td>\n",
       "      <td>Female</td>\n",
       "      <td>Master's</td>\n",
       "      <td>Data Analyst</td>\n",
       "      <td>3.0</td>\n",
       "      <td>65000.0</td>\n",
       "    </tr>\n",
       "    <tr>\n",
       "      <th>2</th>\n",
       "      <td>45.0</td>\n",
       "      <td>Male</td>\n",
       "      <td>PhD</td>\n",
       "      <td>Senior Manager</td>\n",
       "      <td>15.0</td>\n",
       "      <td>150000.0</td>\n",
       "    </tr>\n",
       "    <tr>\n",
       "      <th>3</th>\n",
       "      <td>36.0</td>\n",
       "      <td>Female</td>\n",
       "      <td>Bachelor's</td>\n",
       "      <td>Sales Associate</td>\n",
       "      <td>7.0</td>\n",
       "      <td>60000.0</td>\n",
       "    </tr>\n",
       "    <tr>\n",
       "      <th>4</th>\n",
       "      <td>52.0</td>\n",
       "      <td>Male</td>\n",
       "      <td>Master's</td>\n",
       "      <td>Director</td>\n",
       "      <td>20.0</td>\n",
       "      <td>200000.0</td>\n",
       "    </tr>\n",
       "    <tr>\n",
       "      <th>...</th>\n",
       "      <td>...</td>\n",
       "      <td>...</td>\n",
       "      <td>...</td>\n",
       "      <td>...</td>\n",
       "      <td>...</td>\n",
       "      <td>...</td>\n",
       "    </tr>\n",
       "    <tr>\n",
       "      <th>370</th>\n",
       "      <td>35.0</td>\n",
       "      <td>Female</td>\n",
       "      <td>Bachelor's</td>\n",
       "      <td>Senior Marketing Analyst</td>\n",
       "      <td>8.0</td>\n",
       "      <td>85000.0</td>\n",
       "    </tr>\n",
       "    <tr>\n",
       "      <th>371</th>\n",
       "      <td>43.0</td>\n",
       "      <td>Male</td>\n",
       "      <td>Master's</td>\n",
       "      <td>Director of Operations</td>\n",
       "      <td>19.0</td>\n",
       "      <td>170000.0</td>\n",
       "    </tr>\n",
       "    <tr>\n",
       "      <th>372</th>\n",
       "      <td>29.0</td>\n",
       "      <td>Female</td>\n",
       "      <td>Bachelor's</td>\n",
       "      <td>Junior Project Manager</td>\n",
       "      <td>2.0</td>\n",
       "      <td>40000.0</td>\n",
       "    </tr>\n",
       "    <tr>\n",
       "      <th>373</th>\n",
       "      <td>34.0</td>\n",
       "      <td>Male</td>\n",
       "      <td>Bachelor's</td>\n",
       "      <td>Senior Operations Coordinator</td>\n",
       "      <td>7.0</td>\n",
       "      <td>90000.0</td>\n",
       "    </tr>\n",
       "    <tr>\n",
       "      <th>374</th>\n",
       "      <td>44.0</td>\n",
       "      <td>Female</td>\n",
       "      <td>PhD</td>\n",
       "      <td>Senior Business Analyst</td>\n",
       "      <td>15.0</td>\n",
       "      <td>150000.0</td>\n",
       "    </tr>\n",
       "  </tbody>\n",
       "</table>\n",
       "<p>375 rows × 6 columns</p>\n",
       "</div>"
      ],
      "text/plain": [
       "      Age  Gender Education Level                      Job Title  \\\n",
       "0    32.0    Male      Bachelor's              Software Engineer   \n",
       "1    28.0  Female        Master's                   Data Analyst   \n",
       "2    45.0    Male             PhD                 Senior Manager   \n",
       "3    36.0  Female      Bachelor's                Sales Associate   \n",
       "4    52.0    Male        Master's                       Director   \n",
       "..    ...     ...             ...                            ...   \n",
       "370  35.0  Female      Bachelor's       Senior Marketing Analyst   \n",
       "371  43.0    Male        Master's         Director of Operations   \n",
       "372  29.0  Female      Bachelor's         Junior Project Manager   \n",
       "373  34.0    Male      Bachelor's  Senior Operations Coordinator   \n",
       "374  44.0  Female             PhD        Senior Business Analyst   \n",
       "\n",
       "     Years of Experience    Salary  \n",
       "0                    5.0   90000.0  \n",
       "1                    3.0   65000.0  \n",
       "2                   15.0  150000.0  \n",
       "3                    7.0   60000.0  \n",
       "4                   20.0  200000.0  \n",
       "..                   ...       ...  \n",
       "370                  8.0   85000.0  \n",
       "371                 19.0  170000.0  \n",
       "372                  2.0   40000.0  \n",
       "373                  7.0   90000.0  \n",
       "374                 15.0  150000.0  \n",
       "\n",
       "[375 rows x 6 columns]"
      ]
     },
     "execution_count": 3,
     "metadata": {},
     "output_type": "execute_result"
    }
   ],
   "source": [
    "df = pd.DataFrame(pd.read_csv(\"Salary Data.csv\"))\n",
    "df"
   ]
  },
  {
   "cell_type": "code",
   "execution_count": 4,
   "id": "H5biCAdsyV3e",
   "metadata": {
    "colab": {
     "base_uri": "https://localhost:8080/"
    },
    "executionInfo": {
     "elapsed": 6,
     "status": "ok",
     "timestamp": 1696505151515,
     "user": {
      "displayName": "Aayush Adhikari",
      "userId": "12220140506292291733"
     },
     "user_tz": -345
    },
    "id": "H5biCAdsyV3e",
    "outputId": "98a38711-2521-4e66-b971-01e2e6103e2e"
   },
   "outputs": [
    {
     "data": {
      "text/plain": [
       "(375, 6)"
      ]
     },
     "execution_count": 4,
     "metadata": {},
     "output_type": "execute_result"
    }
   ],
   "source": [
    "df.shape"
   ]
  },
  {
   "cell_type": "code",
   "execution_count": 5,
   "id": "d25c99b1",
   "metadata": {
    "colab": {
     "base_uri": "https://localhost:8080/",
     "height": 300
    },
    "executionInfo": {
     "elapsed": 3,
     "status": "ok",
     "timestamp": 1696505151515,
     "user": {
      "displayName": "Aayush Adhikari",
      "userId": "12220140506292291733"
     },
     "user_tz": -345
    },
    "id": "d25c99b1",
    "outputId": "063c2646-20f0-4f82-90fd-79df437fa2a4"
   },
   "outputs": [
    {
     "data": {
      "text/html": [
       "<div>\n",
       "<style scoped>\n",
       "    .dataframe tbody tr th:only-of-type {\n",
       "        vertical-align: middle;\n",
       "    }\n",
       "\n",
       "    .dataframe tbody tr th {\n",
       "        vertical-align: top;\n",
       "    }\n",
       "\n",
       "    .dataframe thead th {\n",
       "        text-align: right;\n",
       "    }\n",
       "</style>\n",
       "<table border=\"1\" class=\"dataframe\">\n",
       "  <thead>\n",
       "    <tr style=\"text-align: right;\">\n",
       "      <th></th>\n",
       "      <th>Age</th>\n",
       "      <th>Years of Experience</th>\n",
       "      <th>Salary</th>\n",
       "    </tr>\n",
       "  </thead>\n",
       "  <tbody>\n",
       "    <tr>\n",
       "      <th>count</th>\n",
       "      <td>373.000000</td>\n",
       "      <td>373.000000</td>\n",
       "      <td>373.000000</td>\n",
       "    </tr>\n",
       "    <tr>\n",
       "      <th>mean</th>\n",
       "      <td>37.431635</td>\n",
       "      <td>10.030831</td>\n",
       "      <td>100577.345845</td>\n",
       "    </tr>\n",
       "    <tr>\n",
       "      <th>std</th>\n",
       "      <td>7.069073</td>\n",
       "      <td>6.557007</td>\n",
       "      <td>48240.013482</td>\n",
       "    </tr>\n",
       "    <tr>\n",
       "      <th>min</th>\n",
       "      <td>23.000000</td>\n",
       "      <td>0.000000</td>\n",
       "      <td>350.000000</td>\n",
       "    </tr>\n",
       "    <tr>\n",
       "      <th>25%</th>\n",
       "      <td>31.000000</td>\n",
       "      <td>4.000000</td>\n",
       "      <td>55000.000000</td>\n",
       "    </tr>\n",
       "    <tr>\n",
       "      <th>50%</th>\n",
       "      <td>36.000000</td>\n",
       "      <td>9.000000</td>\n",
       "      <td>95000.000000</td>\n",
       "    </tr>\n",
       "    <tr>\n",
       "      <th>75%</th>\n",
       "      <td>44.000000</td>\n",
       "      <td>15.000000</td>\n",
       "      <td>140000.000000</td>\n",
       "    </tr>\n",
       "    <tr>\n",
       "      <th>max</th>\n",
       "      <td>53.000000</td>\n",
       "      <td>25.000000</td>\n",
       "      <td>250000.000000</td>\n",
       "    </tr>\n",
       "  </tbody>\n",
       "</table>\n",
       "</div>"
      ],
      "text/plain": [
       "              Age  Years of Experience         Salary\n",
       "count  373.000000           373.000000     373.000000\n",
       "mean    37.431635            10.030831  100577.345845\n",
       "std      7.069073             6.557007   48240.013482\n",
       "min     23.000000             0.000000     350.000000\n",
       "25%     31.000000             4.000000   55000.000000\n",
       "50%     36.000000             9.000000   95000.000000\n",
       "75%     44.000000            15.000000  140000.000000\n",
       "max     53.000000            25.000000  250000.000000"
      ]
     },
     "execution_count": 5,
     "metadata": {},
     "output_type": "execute_result"
    }
   ],
   "source": [
    "df.describe()"
   ]
  },
  {
   "cell_type": "code",
   "execution_count": 6,
   "id": "PZ5E2HMCcHmd",
   "metadata": {
    "executionInfo": {
     "elapsed": 3,
     "status": "ok",
     "timestamp": 1696505152187,
     "user": {
      "displayName": "Aayush Adhikari",
      "userId": "12220140506292291733"
     },
     "user_tz": -345
    },
    "id": "PZ5E2HMCcHmd"
   },
   "outputs": [],
   "source": [
    "df = df.dropna()"
   ]
  },
  {
   "cell_type": "code",
   "execution_count": 7,
   "id": "165d6834",
   "metadata": {
    "colab": {
     "base_uri": "https://localhost:8080/"
    },
    "executionInfo": {
     "elapsed": 3,
     "status": "ok",
     "timestamp": 1696505152187,
     "user": {
      "displayName": "Aayush Adhikari",
      "userId": "12220140506292291733"
     },
     "user_tz": -345
    },
    "id": "165d6834",
    "outputId": "2b6104e5-8c0f-4b36-e8d9-aa5f2b0733e6"
   },
   "outputs": [
    {
     "data": {
      "text/plain": [
       "Index(['Age', 'Gender', 'Education Level', 'Job Title', 'Years of Experience',\n",
       "       'Salary'],\n",
       "      dtype='object')"
      ]
     },
     "execution_count": 7,
     "metadata": {},
     "output_type": "execute_result"
    }
   ],
   "source": [
    "df.columns"
   ]
  },
  {
   "cell_type": "code",
   "execution_count": 8,
   "id": "d995ea58",
   "metadata": {
    "colab": {
     "base_uri": "https://localhost:8080/"
    },
    "executionInfo": {
     "elapsed": 3,
     "status": "ok",
     "timestamp": 1696505152637,
     "user": {
      "displayName": "Aayush Adhikari",
      "userId": "12220140506292291733"
     },
     "user_tz": -345
    },
    "id": "d995ea58",
    "outputId": "60d070f9-8095-4150-b884-f95e78a2a1b8"
   },
   "outputs": [
    {
     "data": {
      "text/plain": [
       "(373, 6)"
      ]
     },
     "execution_count": 8,
     "metadata": {},
     "output_type": "execute_result"
    }
   ],
   "source": [
    "df.shape"
   ]
  },
  {
   "cell_type": "code",
   "execution_count": 9,
   "id": "0ec2f737",
   "metadata": {
    "colab": {
     "base_uri": "https://localhost:8080/"
    },
    "executionInfo": {
     "elapsed": 5,
     "status": "ok",
     "timestamp": 1696505153109,
     "user": {
      "displayName": "Aayush Adhikari",
      "userId": "12220140506292291733"
     },
     "user_tz": -345
    },
    "id": "0ec2f737",
    "outputId": "627119a3-c147-4ab6-bb30-fb90ac959082"
   },
   "outputs": [
    {
     "name": "stdout",
     "output_type": "stream",
     "text": [
      "<class 'pandas.core.frame.DataFrame'>\n",
      "Int64Index: 373 entries, 0 to 374\n",
      "Data columns (total 6 columns):\n",
      " #   Column               Non-Null Count  Dtype  \n",
      "---  ------               --------------  -----  \n",
      " 0   Age                  373 non-null    float64\n",
      " 1   Gender               373 non-null    object \n",
      " 2   Education Level      373 non-null    object \n",
      " 3   Job Title            373 non-null    object \n",
      " 4   Years of Experience  373 non-null    float64\n",
      " 5   Salary               373 non-null    float64\n",
      "dtypes: float64(3), object(3)\n",
      "memory usage: 20.4+ KB\n"
     ]
    }
   ],
   "source": [
    "df.info()"
   ]
  },
  {
   "cell_type": "code",
   "execution_count": 10,
   "id": "3b815b70",
   "metadata": {
    "colab": {
     "base_uri": "https://localhost:8080/"
    },
    "executionInfo": {
     "elapsed": 5,
     "status": "ok",
     "timestamp": 1696505153110,
     "user": {
      "displayName": "Aayush Adhikari",
      "userId": "12220140506292291733"
     },
     "user_tz": -345
    },
    "id": "3b815b70",
    "outputId": "5afa09f0-b623-4db4-b6fd-43951dde8df5"
   },
   "outputs": [
    {
     "data": {
      "text/plain": [
       "Age                    0\n",
       "Gender                 0\n",
       "Education Level        0\n",
       "Job Title              0\n",
       "Years of Experience    0\n",
       "Salary                 0\n",
       "dtype: int64"
      ]
     },
     "execution_count": 10,
     "metadata": {},
     "output_type": "execute_result"
    }
   ],
   "source": [
    "# Checking Null values\n",
    "df.isnull().sum()\n",
    "# There are no NULL values in the dataset, hence it is clean."
   ]
  },
  {
   "cell_type": "code",
   "execution_count": 11,
   "id": "6e9fH9xkd9Cj",
   "metadata": {
    "colab": {
     "base_uri": "https://localhost:8080/"
    },
    "executionInfo": {
     "elapsed": 2,
     "status": "ok",
     "timestamp": 1696505153778,
     "user": {
      "displayName": "Aayush Adhikari",
      "userId": "12220140506292291733"
     },
     "user_tz": -345
    },
    "id": "6e9fH9xkd9Cj",
    "outputId": "e7eb5ca5-0112-4a78-b939-62adc0acfc7c"
   },
   "outputs": [
    {
     "data": {
      "text/plain": [
       "{'Account Manager',\n",
       " 'Accountant',\n",
       " 'Administrative Assistant',\n",
       " 'Business Analyst',\n",
       " 'Business Development Manager',\n",
       " 'Business Intelligence Analyst',\n",
       " 'CEO',\n",
       " 'Chief Data Officer',\n",
       " 'Chief Technology Officer',\n",
       " 'Content Marketing Manager',\n",
       " 'Copywriter',\n",
       " 'Creative Director',\n",
       " 'Customer Service Manager',\n",
       " 'Customer Service Rep',\n",
       " 'Customer Service Representative',\n",
       " 'Customer Success Manager',\n",
       " 'Customer Success Rep',\n",
       " 'Data Analyst',\n",
       " 'Data Entry Clerk',\n",
       " 'Data Scientist',\n",
       " 'Digital Content Producer',\n",
       " 'Digital Marketing Manager',\n",
       " 'Director',\n",
       " 'Director of Business Development',\n",
       " 'Director of Engineering',\n",
       " 'Director of Finance',\n",
       " 'Director of HR',\n",
       " 'Director of Human Capital',\n",
       " 'Director of Human Resources',\n",
       " 'Director of Marketing',\n",
       " 'Director of Operations',\n",
       " 'Director of Product Management',\n",
       " 'Director of Sales',\n",
       " 'Director of Sales and Marketing',\n",
       " 'Event Coordinator',\n",
       " 'Financial Advisor',\n",
       " 'Financial Analyst',\n",
       " 'Financial Manager',\n",
       " 'Graphic Designer',\n",
       " 'HR Generalist',\n",
       " 'HR Manager',\n",
       " 'Help Desk Analyst',\n",
       " 'Human Resources Director',\n",
       " 'IT Manager',\n",
       " 'IT Support',\n",
       " 'IT Support Specialist',\n",
       " 'Junior Account Manager',\n",
       " 'Junior Accountant',\n",
       " 'Junior Advertising Coordinator',\n",
       " 'Junior Business Analyst',\n",
       " 'Junior Business Development Associate',\n",
       " 'Junior Business Operations Analyst',\n",
       " 'Junior Copywriter',\n",
       " 'Junior Customer Support Specialist',\n",
       " 'Junior Data Analyst',\n",
       " 'Junior Data Scientist',\n",
       " 'Junior Designer',\n",
       " 'Junior Developer',\n",
       " 'Junior Financial Advisor',\n",
       " 'Junior Financial Analyst',\n",
       " 'Junior HR Coordinator',\n",
       " 'Junior HR Generalist',\n",
       " 'Junior Marketing Analyst',\n",
       " 'Junior Marketing Coordinator',\n",
       " 'Junior Marketing Manager',\n",
       " 'Junior Marketing Specialist',\n",
       " 'Junior Operations Analyst',\n",
       " 'Junior Operations Coordinator',\n",
       " 'Junior Operations Manager',\n",
       " 'Junior Product Manager',\n",
       " 'Junior Project Manager',\n",
       " 'Junior Recruiter',\n",
       " 'Junior Research Scientist',\n",
       " 'Junior Sales Representative',\n",
       " 'Junior Social Media Manager',\n",
       " 'Junior Social Media Specialist',\n",
       " 'Junior Software Developer',\n",
       " 'Junior Software Engineer',\n",
       " 'Junior UX Designer',\n",
       " 'Junior Web Designer',\n",
       " 'Junior Web Developer',\n",
       " 'Marketing Analyst',\n",
       " 'Marketing Coordinator',\n",
       " 'Marketing Manager',\n",
       " 'Marketing Specialist',\n",
       " 'Network Engineer',\n",
       " 'Office Manager',\n",
       " 'Operations Analyst',\n",
       " 'Operations Director',\n",
       " 'Operations Manager',\n",
       " 'Principal Engineer',\n",
       " 'Principal Scientist',\n",
       " 'Product Designer',\n",
       " 'Product Manager',\n",
       " 'Product Marketing Manager',\n",
       " 'Project Engineer',\n",
       " 'Project Manager',\n",
       " 'Public Relations Manager',\n",
       " 'Recruiter',\n",
       " 'Research Director',\n",
       " 'Research Scientist',\n",
       " 'Sales Associate',\n",
       " 'Sales Director',\n",
       " 'Sales Executive',\n",
       " 'Sales Manager',\n",
       " 'Sales Operations Manager',\n",
       " 'Sales Representative',\n",
       " 'Senior Account Executive',\n",
       " 'Senior Account Manager',\n",
       " 'Senior Accountant',\n",
       " 'Senior Business Analyst',\n",
       " 'Senior Business Development Manager',\n",
       " 'Senior Consultant',\n",
       " 'Senior Data Analyst',\n",
       " 'Senior Data Engineer',\n",
       " 'Senior Data Scientist',\n",
       " 'Senior Engineer',\n",
       " 'Senior Financial Advisor',\n",
       " 'Senior Financial Analyst',\n",
       " 'Senior Financial Manager',\n",
       " 'Senior Graphic Designer',\n",
       " 'Senior HR Generalist',\n",
       " 'Senior HR Manager',\n",
       " 'Senior HR Specialist',\n",
       " 'Senior Human Resources Coordinator',\n",
       " 'Senior Human Resources Manager',\n",
       " 'Senior Human Resources Specialist',\n",
       " 'Senior IT Consultant',\n",
       " 'Senior IT Project Manager',\n",
       " 'Senior IT Support Specialist',\n",
       " 'Senior Manager',\n",
       " 'Senior Marketing Analyst',\n",
       " 'Senior Marketing Coordinator',\n",
       " 'Senior Marketing Director',\n",
       " 'Senior Marketing Manager',\n",
       " 'Senior Marketing Specialist',\n",
       " 'Senior Operations Analyst',\n",
       " 'Senior Operations Coordinator',\n",
       " 'Senior Operations Manager',\n",
       " 'Senior Product Designer',\n",
       " 'Senior Product Development Manager',\n",
       " 'Senior Product Manager',\n",
       " 'Senior Product Marketing Manager',\n",
       " 'Senior Project Coordinator',\n",
       " 'Senior Project Manager',\n",
       " 'Senior Quality Assurance Analyst',\n",
       " 'Senior Research Scientist',\n",
       " 'Senior Researcher',\n",
       " 'Senior Sales Manager',\n",
       " 'Senior Sales Representative',\n",
       " 'Senior Scientist',\n",
       " 'Senior Software Architect',\n",
       " 'Senior Software Developer',\n",
       " 'Senior Software Engineer',\n",
       " 'Senior Training Specialist',\n",
       " 'Senior UX Designer',\n",
       " 'Social Media Manager',\n",
       " 'Social Media Specialist',\n",
       " 'Software Developer',\n",
       " 'Software Engineer',\n",
       " 'Software Manager',\n",
       " 'Software Project Manager',\n",
       " 'Strategy Consultant',\n",
       " 'Supply Chain Analyst',\n",
       " 'Supply Chain Manager',\n",
       " 'Technical Recruiter',\n",
       " 'Technical Support Specialist',\n",
       " 'Technical Writer',\n",
       " 'Training Specialist',\n",
       " 'UX Designer',\n",
       " 'UX Researcher',\n",
       " 'VP of Finance',\n",
       " 'VP of Operations',\n",
       " 'Web Developer'}"
      ]
     },
     "execution_count": 11,
     "metadata": {},
     "output_type": "execute_result"
    }
   ],
   "source": [
    "set(df['Job Title'])"
   ]
  },
  {
   "cell_type": "code",
   "execution_count": 12,
   "id": "zCEeXKfTqiF3",
   "metadata": {
    "executionInfo": {
     "elapsed": 2,
     "status": "ok",
     "timestamp": 1696505154340,
     "user": {
      "displayName": "Aayush Adhikari",
      "userId": "12220140506292291733"
     },
     "user_tz": -345
    },
    "id": "zCEeXKfTqiF3"
   },
   "outputs": [],
   "source": [
    "# df = df.dropna()"
   ]
  },
  {
   "cell_type": "code",
   "execution_count": 13,
   "id": "WMd5BTey2J63",
   "metadata": {
    "executionInfo": {
     "elapsed": 1,
     "status": "ok",
     "timestamp": 1696505154836,
     "user": {
      "displayName": "Aayush Adhikari",
      "userId": "12220140506292291733"
     },
     "user_tz": -345
    },
    "id": "WMd5BTey2J63"
   },
   "outputs": [],
   "source": [
    "# EDA"
   ]
  },
  {
   "cell_type": "code",
   "execution_count": 14,
   "id": "b92ef8da",
   "metadata": {
    "executionInfo": {
     "elapsed": 2,
     "status": "ok",
     "timestamp": 1696505155492,
     "user": {
      "displayName": "Aayush Adhikari",
      "userId": "12220140506292291733"
     },
     "user_tz": -345
    },
    "id": "b92ef8da"
   },
   "outputs": [],
   "source": [
    "auto=df[['Age', 'Gender', 'Education Level', 'Years of Experience','Salary']]"
   ]
  },
  {
   "cell_type": "code",
   "execution_count": 15,
   "id": "ohsUWOA5-uq7",
   "metadata": {
    "colab": {
     "base_uri": "https://localhost:8080/",
     "height": 775
    },
    "executionInfo": {
     "elapsed": 2851,
     "status": "ok",
     "timestamp": 1696505158768,
     "user": {
      "displayName": "Aayush Adhikari",
      "userId": "12220140506292291733"
     },
     "user_tz": -345
    },
    "id": "ohsUWOA5-uq7",
    "outputId": "304b246a-ab84-40fc-b64d-852ac72fcb52"
   },
   "outputs": [
    {
     "data": {
      "text/plain": [
       "<seaborn.axisgrid.PairGrid at 0x1d4caac8070>"
      ]
     },
     "execution_count": 15,
     "metadata": {},
     "output_type": "execute_result"
    },
    {
     "data": {
      "image/png": "[encoded data removed]",
      "text/plain": [
       "<Figure size 750x750 with 12 Axes>"
      ]
     },
     "metadata": {},
     "output_type": "display_data"
    }
   ],
   "source": [
    "sns.pairplot(auto)"
   ]
  },
  {
   "cell_type": "code",
   "execution_count": 16,
   "id": "sRm2TmXHfz4U",
   "metadata": {
    "colab": {
     "base_uri": "https://localhost:8080/",
     "height": 506
    },
    "executionInfo": {
     "elapsed": 7,
     "status": "ok",
     "timestamp": 1696505158768,
     "user": {
      "displayName": "Aayush Adhikari",
      "userId": "12220140506292291733"
     },
     "user_tz": -345
    },
    "id": "sRm2TmXHfz4U",
    "outputId": "05eeefb5-cadd-4d07-8746-bd60f2f5ceda"
   },
   "outputs": [
    {
     "name": "stderr",
     "output_type": "stream",
     "text": [
      "C:\\Users\\LEVONO\\AppData\\Local\\Temp\\ipykernel_7144\\478781426.py:4: FutureWarning: The default value of numeric_only in DataFrame.corr is deprecated. In a future version, it will default to False. Select only valid columns or specify the value of numeric_only to silence this warning.\n",
      "  sns.heatmap(auto.corr(),annot=True)\n"
     ]
    },
    {
     "data": {
      "image/png": "[encoded data removed]",
      "text/plain": [
       "<Figure size 1500x500 with 2 Axes>"
      ]
     },
     "metadata": {},
     "output_type": "display_data"
    }
   ],
   "source": [
    "# Starting machine learning\n",
    "import seaborn as sns\n",
    "plt.figure(figsize=(15,5))\n",
    "sns.heatmap(auto.corr(),annot=True)\n",
    "plt.show()"
   ]
  },
  {
   "cell_type": "code",
   "execution_count": 17,
   "id": "272b64f1",
   "metadata": {
    "colab": {
     "base_uri": "https://localhost:8080/",
     "height": 423
    },
    "executionInfo": {
     "elapsed": 5,
     "status": "ok",
     "timestamp": 1696505158768,
     "user": {
      "displayName": "Aayush Adhikari",
      "userId": "12220140506292291733"
     },
     "user_tz": -345
    },
    "id": "272b64f1",
    "outputId": "0b629fbf-7f53-42dc-efbd-000f8ee3382d"
   },
   "outputs": [
    {
     "data": {
      "text/html": [
       "<div>\n",
       "<style scoped>\n",
       "    .dataframe tbody tr th:only-of-type {\n",
       "        vertical-align: middle;\n",
       "    }\n",
       "\n",
       "    .dataframe tbody tr th {\n",
       "        vertical-align: top;\n",
       "    }\n",
       "\n",
       "    .dataframe thead th {\n",
       "        text-align: right;\n",
       "    }\n",
       "</style>\n",
       "<table border=\"1\" class=\"dataframe\">\n",
       "  <thead>\n",
       "    <tr style=\"text-align: right;\">\n",
       "      <th></th>\n",
       "      <th>Age</th>\n",
       "      <th>Gender</th>\n",
       "      <th>Education Level</th>\n",
       "      <th>Years of Experience</th>\n",
       "      <th>Salary</th>\n",
       "    </tr>\n",
       "  </thead>\n",
       "  <tbody>\n",
       "    <tr>\n",
       "      <th>0</th>\n",
       "      <td>32.0</td>\n",
       "      <td>Male</td>\n",
       "      <td>Bachelor's</td>\n",
       "      <td>5.0</td>\n",
       "      <td>90000.0</td>\n",
       "    </tr>\n",
       "    <tr>\n",
       "      <th>1</th>\n",
       "      <td>28.0</td>\n",
       "      <td>Female</td>\n",
       "      <td>Master's</td>\n",
       "      <td>3.0</td>\n",
       "      <td>65000.0</td>\n",
       "    </tr>\n",
       "    <tr>\n",
       "      <th>2</th>\n",
       "      <td>45.0</td>\n",
       "      <td>Male</td>\n",
       "      <td>PhD</td>\n",
       "      <td>15.0</td>\n",
       "      <td>150000.0</td>\n",
       "    </tr>\n",
       "    <tr>\n",
       "      <th>3</th>\n",
       "      <td>36.0</td>\n",
       "      <td>Female</td>\n",
       "      <td>Bachelor's</td>\n",
       "      <td>7.0</td>\n",
       "      <td>60000.0</td>\n",
       "    </tr>\n",
       "    <tr>\n",
       "      <th>4</th>\n",
       "      <td>52.0</td>\n",
       "      <td>Male</td>\n",
       "      <td>Master's</td>\n",
       "      <td>20.0</td>\n",
       "      <td>200000.0</td>\n",
       "    </tr>\n",
       "    <tr>\n",
       "      <th>...</th>\n",
       "      <td>...</td>\n",
       "      <td>...</td>\n",
       "      <td>...</td>\n",
       "      <td>...</td>\n",
       "      <td>...</td>\n",
       "    </tr>\n",
       "    <tr>\n",
       "      <th>370</th>\n",
       "      <td>35.0</td>\n",
       "      <td>Female</td>\n",
       "      <td>Bachelor's</td>\n",
       "      <td>8.0</td>\n",
       "      <td>85000.0</td>\n",
       "    </tr>\n",
       "    <tr>\n",
       "      <th>371</th>\n",
       "      <td>43.0</td>\n",
       "      <td>Male</td>\n",
       "      <td>Master's</td>\n",
       "      <td>19.0</td>\n",
       "      <td>170000.0</td>\n",
       "    </tr>\n",
       "    <tr>\n",
       "      <th>372</th>\n",
       "      <td>29.0</td>\n",
       "      <td>Female</td>\n",
       "      <td>Bachelor's</td>\n",
       "      <td>2.0</td>\n",
       "      <td>40000.0</td>\n",
       "    </tr>\n",
       "    <tr>\n",
       "      <th>373</th>\n",
       "      <td>34.0</td>\n",
       "      <td>Male</td>\n",
       "      <td>Bachelor's</td>\n",
       "      <td>7.0</td>\n",
       "      <td>90000.0</td>\n",
       "    </tr>\n",
       "    <tr>\n",
       "      <th>374</th>\n",
       "      <td>44.0</td>\n",
       "      <td>Female</td>\n",
       "      <td>PhD</td>\n",
       "      <td>15.0</td>\n",
       "      <td>150000.0</td>\n",
       "    </tr>\n",
       "  </tbody>\n",
       "</table>\n",
       "<p>373 rows × 5 columns</p>\n",
       "</div>"
      ],
      "text/plain": [
       "      Age  Gender Education Level  Years of Experience    Salary\n",
       "0    32.0    Male      Bachelor's                  5.0   90000.0\n",
       "1    28.0  Female        Master's                  3.0   65000.0\n",
       "2    45.0    Male             PhD                 15.0  150000.0\n",
       "3    36.0  Female      Bachelor's                  7.0   60000.0\n",
       "4    52.0    Male        Master's                 20.0  200000.0\n",
       "..    ...     ...             ...                  ...       ...\n",
       "370  35.0  Female      Bachelor's                  8.0   85000.0\n",
       "371  43.0    Male        Master's                 19.0  170000.0\n",
       "372  29.0  Female      Bachelor's                  2.0   40000.0\n",
       "373  34.0    Male      Bachelor's                  7.0   90000.0\n",
       "374  44.0  Female             PhD                 15.0  150000.0\n",
       "\n",
       "[373 rows x 5 columns]"
      ]
     },
     "execution_count": 17,
     "metadata": {},
     "output_type": "execute_result"
    }
   ],
   "source": [
    "auto"
   ]
  },
  {
   "cell_type": "code",
   "execution_count": 18,
   "id": "W7q-5KVRcK70",
   "metadata": {
    "executionInfo": {
     "elapsed": 4,
     "status": "ok",
     "timestamp": 1696505158768,
     "user": {
      "displayName": "Aayush Adhikari",
      "userId": "12220140506292291733"
     },
     "user_tz": -345
    },
    "id": "W7q-5KVRcK70"
   },
   "outputs": [],
   "source": [
    "# Dimension reduction"
   ]
  },
  {
   "cell_type": "code",
   "execution_count": 19,
   "id": "6b76c55f",
   "metadata": {
    "colab": {
     "base_uri": "https://localhost:8080/",
     "height": 423
    },
    "executionInfo": {
     "elapsed": 3,
     "status": "ok",
     "timestamp": 1696505159434,
     "user": {
      "displayName": "Aayush Adhikari",
      "userId": "12220140506292291733"
     },
     "user_tz": -345
    },
    "id": "6b76c55f",
    "outputId": "b1dc29c1-0b86-4066-a9df-aa25488c824f"
   },
   "outputs": [
    {
     "data": {
      "text/html": [
       "<div>\n",
       "<style scoped>\n",
       "    .dataframe tbody tr th:only-of-type {\n",
       "        vertical-align: middle;\n",
       "    }\n",
       "\n",
       "    .dataframe tbody tr th {\n",
       "        vertical-align: top;\n",
       "    }\n",
       "\n",
       "    .dataframe thead th {\n",
       "        text-align: right;\n",
       "    }\n",
       "</style>\n",
       "<table border=\"1\" class=\"dataframe\">\n",
       "  <thead>\n",
       "    <tr style=\"text-align: right;\">\n",
       "      <th></th>\n",
       "      <th>Male</th>\n",
       "    </tr>\n",
       "  </thead>\n",
       "  <tbody>\n",
       "    <tr>\n",
       "      <th>0</th>\n",
       "      <td>1</td>\n",
       "    </tr>\n",
       "    <tr>\n",
       "      <th>1</th>\n",
       "      <td>0</td>\n",
       "    </tr>\n",
       "    <tr>\n",
       "      <th>2</th>\n",
       "      <td>1</td>\n",
       "    </tr>\n",
       "    <tr>\n",
       "      <th>3</th>\n",
       "      <td>0</td>\n",
       "    </tr>\n",
       "    <tr>\n",
       "      <th>4</th>\n",
       "      <td>1</td>\n",
       "    </tr>\n",
       "    <tr>\n",
       "      <th>...</th>\n",
       "      <td>...</td>\n",
       "    </tr>\n",
       "    <tr>\n",
       "      <th>370</th>\n",
       "      <td>0</td>\n",
       "    </tr>\n",
       "    <tr>\n",
       "      <th>371</th>\n",
       "      <td>1</td>\n",
       "    </tr>\n",
       "    <tr>\n",
       "      <th>372</th>\n",
       "      <td>0</td>\n",
       "    </tr>\n",
       "    <tr>\n",
       "      <th>373</th>\n",
       "      <td>1</td>\n",
       "    </tr>\n",
       "    <tr>\n",
       "      <th>374</th>\n",
       "      <td>0</td>\n",
       "    </tr>\n",
       "  </tbody>\n",
       "</table>\n",
       "<p>373 rows × 1 columns</p>\n",
       "</div>"
      ],
      "text/plain": [
       "     Male\n",
       "0       1\n",
       "1       0\n",
       "2       1\n",
       "3       0\n",
       "4       1\n",
       "..    ...\n",
       "370     0\n",
       "371     1\n",
       "372     0\n",
       "373     1\n",
       "374     0\n",
       "\n",
       "[373 rows x 1 columns]"
      ]
     },
     "execution_count": 19,
     "metadata": {},
     "output_type": "execute_result"
    }
   ],
   "source": [
    "gender = pd.get_dummies(auto['Gender'], drop_first = True)\n",
    "gender"
   ]
  },
  {
   "cell_type": "code",
   "execution_count": 20,
   "id": "3989a793",
   "metadata": {
    "colab": {
     "base_uri": "https://localhost:8080/",
     "height": 423
    },
    "executionInfo": {
     "elapsed": 4,
     "status": "ok",
     "timestamp": 1696505160036,
     "user": {
      "displayName": "Aayush Adhikari",
      "userId": "12220140506292291733"
     },
     "user_tz": -345
    },
    "id": "3989a793",
    "outputId": "b8094cd4-f2e1-45b4-b97f-5e3ac3beff1b"
   },
   "outputs": [
    {
     "data": {
      "text/html": [
       "<div>\n",
       "<style scoped>\n",
       "    .dataframe tbody tr th:only-of-type {\n",
       "        vertical-align: middle;\n",
       "    }\n",
       "\n",
       "    .dataframe tbody tr th {\n",
       "        vertical-align: top;\n",
       "    }\n",
       "\n",
       "    .dataframe thead th {\n",
       "        text-align: right;\n",
       "    }\n",
       "</style>\n",
       "<table border=\"1\" class=\"dataframe\">\n",
       "  <thead>\n",
       "    <tr style=\"text-align: right;\">\n",
       "      <th></th>\n",
       "      <th>Age</th>\n",
       "      <th>Gender</th>\n",
       "      <th>Education Level</th>\n",
       "      <th>Years of Experience</th>\n",
       "      <th>Salary</th>\n",
       "      <th>Male</th>\n",
       "    </tr>\n",
       "  </thead>\n",
       "  <tbody>\n",
       "    <tr>\n",
       "      <th>0</th>\n",
       "      <td>32.0</td>\n",
       "      <td>Male</td>\n",
       "      <td>Bachelor's</td>\n",
       "      <td>5.0</td>\n",
       "      <td>90000.0</td>\n",
       "      <td>1</td>\n",
       "    </tr>\n",
       "    <tr>\n",
       "      <th>1</th>\n",
       "      <td>28.0</td>\n",
       "      <td>Female</td>\n",
       "      <td>Master's</td>\n",
       "      <td>3.0</td>\n",
       "      <td>65000.0</td>\n",
       "      <td>0</td>\n",
       "    </tr>\n",
       "    <tr>\n",
       "      <th>2</th>\n",
       "      <td>45.0</td>\n",
       "      <td>Male</td>\n",
       "      <td>PhD</td>\n",
       "      <td>15.0</td>\n",
       "      <td>150000.0</td>\n",
       "      <td>1</td>\n",
       "    </tr>\n",
       "    <tr>\n",
       "      <th>3</th>\n",
       "      <td>36.0</td>\n",
       "      <td>Female</td>\n",
       "      <td>Bachelor's</td>\n",
       "      <td>7.0</td>\n",
       "      <td>60000.0</td>\n",
       "      <td>0</td>\n",
       "    </tr>\n",
       "    <tr>\n",
       "      <th>4</th>\n",
       "      <td>52.0</td>\n",
       "      <td>Male</td>\n",
       "      <td>Master's</td>\n",
       "      <td>20.0</td>\n",
       "      <td>200000.0</td>\n",
       "      <td>1</td>\n",
       "    </tr>\n",
       "    <tr>\n",
       "      <th>...</th>\n",
       "      <td>...</td>\n",
       "      <td>...</td>\n",
       "      <td>...</td>\n",
       "      <td>...</td>\n",
       "      <td>...</td>\n",
       "      <td>...</td>\n",
       "    </tr>\n",
       "    <tr>\n",
       "      <th>370</th>\n",
       "      <td>35.0</td>\n",
       "      <td>Female</td>\n",
       "      <td>Bachelor's</td>\n",
       "      <td>8.0</td>\n",
       "      <td>85000.0</td>\n",
       "      <td>0</td>\n",
       "    </tr>\n",
       "    <tr>\n",
       "      <th>371</th>\n",
       "      <td>43.0</td>\n",
       "      <td>Male</td>\n",
       "      <td>Master's</td>\n",
       "      <td>19.0</td>\n",
       "      <td>170000.0</td>\n",
       "      <td>1</td>\n",
       "    </tr>\n",
       "    <tr>\n",
       "      <th>372</th>\n",
       "      <td>29.0</td>\n",
       "      <td>Female</td>\n",
       "      <td>Bachelor's</td>\n",
       "      <td>2.0</td>\n",
       "      <td>40000.0</td>\n",
       "      <td>0</td>\n",
       "    </tr>\n",
       "    <tr>\n",
       "      <th>373</th>\n",
       "      <td>34.0</td>\n",
       "      <td>Male</td>\n",
       "      <td>Bachelor's</td>\n",
       "      <td>7.0</td>\n",
       "      <td>90000.0</td>\n",
       "      <td>1</td>\n",
       "    </tr>\n",
       "    <tr>\n",
       "      <th>374</th>\n",
       "      <td>44.0</td>\n",
       "      <td>Female</td>\n",
       "      <td>PhD</td>\n",
       "      <td>15.0</td>\n",
       "      <td>150000.0</td>\n",
       "      <td>0</td>\n",
       "    </tr>\n",
       "  </tbody>\n",
       "</table>\n",
       "<p>373 rows × 6 columns</p>\n",
       "</div>"
      ],
      "text/plain": [
       "      Age  Gender Education Level  Years of Experience    Salary  Male\n",
       "0    32.0    Male      Bachelor's                  5.0   90000.0     1\n",
       "1    28.0  Female        Master's                  3.0   65000.0     0\n",
       "2    45.0    Male             PhD                 15.0  150000.0     1\n",
       "3    36.0  Female      Bachelor's                  7.0   60000.0     0\n",
       "4    52.0    Male        Master's                 20.0  200000.0     1\n",
       "..    ...     ...             ...                  ...       ...   ...\n",
       "370  35.0  Female      Bachelor's                  8.0   85000.0     0\n",
       "371  43.0    Male        Master's                 19.0  170000.0     1\n",
       "372  29.0  Female      Bachelor's                  2.0   40000.0     0\n",
       "373  34.0    Male      Bachelor's                  7.0   90000.0     1\n",
       "374  44.0  Female             PhD                 15.0  150000.0     0\n",
       "\n",
       "[373 rows x 6 columns]"
      ]
     },
     "execution_count": 20,
     "metadata": {},
     "output_type": "execute_result"
    }
   ],
   "source": [
    "auto = pd.concat([auto, gender], axis = 1)\n",
    "auto"
   ]
  },
  {
   "cell_type": "code",
   "execution_count": 21,
   "id": "7ca6c73c",
   "metadata": {
    "colab": {
     "base_uri": "https://localhost:8080/",
     "height": 423
    },
    "executionInfo": {
     "elapsed": 4,
     "status": "ok",
     "timestamp": 1696505160488,
     "user": {
      "displayName": "Aayush Adhikari",
      "userId": "12220140506292291733"
     },
     "user_tz": -345
    },
    "id": "7ca6c73c",
    "outputId": "ea202a0d-f6db-4f36-8a49-35d0973b7930"
   },
   "outputs": [
    {
     "data": {
      "text/html": [
       "<div>\n",
       "<style scoped>\n",
       "    .dataframe tbody tr th:only-of-type {\n",
       "        vertical-align: middle;\n",
       "    }\n",
       "\n",
       "    .dataframe tbody tr th {\n",
       "        vertical-align: top;\n",
       "    }\n",
       "\n",
       "    .dataframe thead th {\n",
       "        text-align: right;\n",
       "    }\n",
       "</style>\n",
       "<table border=\"1\" class=\"dataframe\">\n",
       "  <thead>\n",
       "    <tr style=\"text-align: right;\">\n",
       "      <th></th>\n",
       "      <th>Bachelor's</th>\n",
       "      <th>Master's</th>\n",
       "      <th>PhD</th>\n",
       "    </tr>\n",
       "  </thead>\n",
       "  <tbody>\n",
       "    <tr>\n",
       "      <th>0</th>\n",
       "      <td>1</td>\n",
       "      <td>0</td>\n",
       "      <td>0</td>\n",
       "    </tr>\n",
       "    <tr>\n",
       "      <th>1</th>\n",
       "      <td>0</td>\n",
       "      <td>1</td>\n",
       "      <td>0</td>\n",
       "    </tr>\n",
       "    <tr>\n",
       "      <th>2</th>\n",
       "      <td>0</td>\n",
       "      <td>0</td>\n",
       "      <td>1</td>\n",
       "    </tr>\n",
       "    <tr>\n",
       "      <th>3</th>\n",
       "      <td>1</td>\n",
       "      <td>0</td>\n",
       "      <td>0</td>\n",
       "    </tr>\n",
       "    <tr>\n",
       "      <th>4</th>\n",
       "      <td>0</td>\n",
       "      <td>1</td>\n",
       "      <td>0</td>\n",
       "    </tr>\n",
       "    <tr>\n",
       "      <th>...</th>\n",
       "      <td>...</td>\n",
       "      <td>...</td>\n",
       "      <td>...</td>\n",
       "    </tr>\n",
       "    <tr>\n",
       "      <th>370</th>\n",
       "      <td>1</td>\n",
       "      <td>0</td>\n",
       "      <td>0</td>\n",
       "    </tr>\n",
       "    <tr>\n",
       "      <th>371</th>\n",
       "      <td>0</td>\n",
       "      <td>1</td>\n",
       "      <td>0</td>\n",
       "    </tr>\n",
       "    <tr>\n",
       "      <th>372</th>\n",
       "      <td>1</td>\n",
       "      <td>0</td>\n",
       "      <td>0</td>\n",
       "    </tr>\n",
       "    <tr>\n",
       "      <th>373</th>\n",
       "      <td>1</td>\n",
       "      <td>0</td>\n",
       "      <td>0</td>\n",
       "    </tr>\n",
       "    <tr>\n",
       "      <th>374</th>\n",
       "      <td>0</td>\n",
       "      <td>0</td>\n",
       "      <td>1</td>\n",
       "    </tr>\n",
       "  </tbody>\n",
       "</table>\n",
       "<p>373 rows × 3 columns</p>\n",
       "</div>"
      ],
      "text/plain": [
       "     Bachelor's  Master's  PhD\n",
       "0             1         0    0\n",
       "1             0         1    0\n",
       "2             0         0    1\n",
       "3             1         0    0\n",
       "4             0         1    0\n",
       "..          ...       ...  ...\n",
       "370           1         0    0\n",
       "371           0         1    0\n",
       "372           1         0    0\n",
       "373           1         0    0\n",
       "374           0         0    1\n",
       "\n",
       "[373 rows x 3 columns]"
      ]
     },
     "execution_count": 21,
     "metadata": {},
     "output_type": "execute_result"
    }
   ],
   "source": [
    "education = pd.get_dummies(auto['Education Level'], drop_first = False)\n",
    "education"
   ]
  },
  {
   "cell_type": "code",
   "execution_count": 22,
   "id": "008f50f4",
   "metadata": {
    "colab": {
     "base_uri": "https://localhost:8080/",
     "height": 423
    },
    "executionInfo": {
     "elapsed": 3,
     "status": "ok",
     "timestamp": 1696505160929,
     "user": {
      "displayName": "Aayush Adhikari",
      "userId": "12220140506292291733"
     },
     "user_tz": -345
    },
    "id": "008f50f4",
    "outputId": "a078ab92-8793-4b38-a26d-7f185feb378c"
   },
   "outputs": [
    {
     "data": {
      "text/html": [
       "<div>\n",
       "<style scoped>\n",
       "    .dataframe tbody tr th:only-of-type {\n",
       "        vertical-align: middle;\n",
       "    }\n",
       "\n",
       "    .dataframe tbody tr th {\n",
       "        vertical-align: top;\n",
       "    }\n",
       "\n",
       "    .dataframe thead th {\n",
       "        text-align: right;\n",
       "    }\n",
       "</style>\n",
       "<table border=\"1\" class=\"dataframe\">\n",
       "  <thead>\n",
       "    <tr style=\"text-align: right;\">\n",
       "      <th></th>\n",
       "      <th>Age</th>\n",
       "      <th>Gender</th>\n",
       "      <th>Education Level</th>\n",
       "      <th>Years of Experience</th>\n",
       "      <th>Salary</th>\n",
       "      <th>Male</th>\n",
       "      <th>Bachelor's</th>\n",
       "      <th>Master's</th>\n",
       "      <th>PhD</th>\n",
       "    </tr>\n",
       "  </thead>\n",
       "  <tbody>\n",
       "    <tr>\n",
       "      <th>0</th>\n",
       "      <td>32.0</td>\n",
       "      <td>Male</td>\n",
       "      <td>Bachelor's</td>\n",
       "      <td>5.0</td>\n",
       "      <td>90000.0</td>\n",
       "      <td>1</td>\n",
       "      <td>1</td>\n",
       "      <td>0</td>\n",
       "      <td>0</td>\n",
       "    </tr>\n",
       "    <tr>\n",
       "      <th>1</th>\n",
       "      <td>28.0</td>\n",
       "      <td>Female</td>\n",
       "      <td>Master's</td>\n",
       "      <td>3.0</td>\n",
       "      <td>65000.0</td>\n",
       "      <td>0</td>\n",
       "      <td>0</td>\n",
       "      <td>1</td>\n",
       "      <td>0</td>\n",
       "    </tr>\n",
       "    <tr>\n",
       "      <th>2</th>\n",
       "      <td>45.0</td>\n",
       "      <td>Male</td>\n",
       "      <td>PhD</td>\n",
       "      <td>15.0</td>\n",
       "      <td>150000.0</td>\n",
       "      <td>1</td>\n",
       "      <td>0</td>\n",
       "      <td>0</td>\n",
       "      <td>1</td>\n",
       "    </tr>\n",
       "    <tr>\n",
       "      <th>3</th>\n",
       "      <td>36.0</td>\n",
       "      <td>Female</td>\n",
       "      <td>Bachelor's</td>\n",
       "      <td>7.0</td>\n",
       "      <td>60000.0</td>\n",
       "      <td>0</td>\n",
       "      <td>1</td>\n",
       "      <td>0</td>\n",
       "      <td>0</td>\n",
       "    </tr>\n",
       "    <tr>\n",
       "      <th>4</th>\n",
       "      <td>52.0</td>\n",
       "      <td>Male</td>\n",
       "      <td>Master's</td>\n",
       "      <td>20.0</td>\n",
       "      <td>200000.0</td>\n",
       "      <td>1</td>\n",
       "      <td>0</td>\n",
       "      <td>1</td>\n",
       "      <td>0</td>\n",
       "    </tr>\n",
       "    <tr>\n",
       "      <th>...</th>\n",
       "      <td>...</td>\n",
       "      <td>...</td>\n",
       "      <td>...</td>\n",
       "      <td>...</td>\n",
       "      <td>...</td>\n",
       "      <td>...</td>\n",
       "      <td>...</td>\n",
       "      <td>...</td>\n",
       "      <td>...</td>\n",
       "    </tr>\n",
       "    <tr>\n",
       "      <th>370</th>\n",
       "      <td>35.0</td>\n",
       "      <td>Female</td>\n",
       "      <td>Bachelor's</td>\n",
       "      <td>8.0</td>\n",
       "      <td>85000.0</td>\n",
       "      <td>0</td>\n",
       "      <td>1</td>\n",
       "      <td>0</td>\n",
       "      <td>0</td>\n",
       "    </tr>\n",
       "    <tr>\n",
       "      <th>371</th>\n",
       "      <td>43.0</td>\n",
       "      <td>Male</td>\n",
       "      <td>Master's</td>\n",
       "      <td>19.0</td>\n",
       "      <td>170000.0</td>\n",
       "      <td>1</td>\n",
       "      <td>0</td>\n",
       "      <td>1</td>\n",
       "      <td>0</td>\n",
       "    </tr>\n",
       "    <tr>\n",
       "      <th>372</th>\n",
       "      <td>29.0</td>\n",
       "      <td>Female</td>\n",
       "      <td>Bachelor's</td>\n",
       "      <td>2.0</td>\n",
       "      <td>40000.0</td>\n",
       "      <td>0</td>\n",
       "      <td>1</td>\n",
       "      <td>0</td>\n",
       "      <td>0</td>\n",
       "    </tr>\n",
       "    <tr>\n",
       "      <th>373</th>\n",
       "      <td>34.0</td>\n",
       "      <td>Male</td>\n",
       "      <td>Bachelor's</td>\n",
       "      <td>7.0</td>\n",
       "      <td>90000.0</td>\n",
       "      <td>1</td>\n",
       "      <td>1</td>\n",
       "      <td>0</td>\n",
       "      <td>0</td>\n",
       "    </tr>\n",
       "    <tr>\n",
       "      <th>374</th>\n",
       "      <td>44.0</td>\n",
       "      <td>Female</td>\n",
       "      <td>PhD</td>\n",
       "      <td>15.0</td>\n",
       "      <td>150000.0</td>\n",
       "      <td>0</td>\n",
       "      <td>0</td>\n",
       "      <td>0</td>\n",
       "      <td>1</td>\n",
       "    </tr>\n",
       "  </tbody>\n",
       "</table>\n",
       "<p>373 rows × 9 columns</p>\n",
       "</div>"
      ],
      "text/plain": [
       "      Age  Gender Education Level  Years of Experience    Salary  Male  \\\n",
       "0    32.0    Male      Bachelor's                  5.0   90000.0     1   \n",
       "1    28.0  Female        Master's                  3.0   65000.0     0   \n",
       "2    45.0    Male             PhD                 15.0  150000.0     1   \n",
       "3    36.0  Female      Bachelor's                  7.0   60000.0     0   \n",
       "4    52.0    Male        Master's                 20.0  200000.0     1   \n",
       "..    ...     ...             ...                  ...       ...   ...   \n",
       "370  35.0  Female      Bachelor's                  8.0   85000.0     0   \n",
       "371  43.0    Male        Master's                 19.0  170000.0     1   \n",
       "372  29.0  Female      Bachelor's                  2.0   40000.0     0   \n",
       "373  34.0    Male      Bachelor's                  7.0   90000.0     1   \n",
       "374  44.0  Female             PhD                 15.0  150000.0     0   \n",
       "\n",
       "     Bachelor's  Master's  PhD  \n",
       "0             1         0    0  \n",
       "1             0         1    0  \n",
       "2             0         0    1  \n",
       "3             1         0    0  \n",
       "4             0         1    0  \n",
       "..          ...       ...  ...  \n",
       "370           1         0    0  \n",
       "371           0         1    0  \n",
       "372           1         0    0  \n",
       "373           1         0    0  \n",
       "374           0         0    1  \n",
       "\n",
       "[373 rows x 9 columns]"
      ]
     },
     "execution_count": 22,
     "metadata": {},
     "output_type": "execute_result"
    }
   ],
   "source": [
    "auto = pd.concat([auto, education], axis = 1)\n",
    "auto"
   ]
  },
  {
   "cell_type": "code",
   "execution_count": 23,
   "id": "6ba62593",
   "metadata": {
    "executionInfo": {
     "elapsed": 5,
     "status": "ok",
     "timestamp": 1696505161487,
     "user": {
      "displayName": "Aayush Adhikari",
      "userId": "12220140506292291733"
     },
     "user_tz": -345
    },
    "id": "6ba62593"
   },
   "outputs": [],
   "source": [
    "# auto=df[['Age', 'Gender', 'Education Level', 'Job Title', 'Years of Experience',\n",
    "#        'Salary']]"
   ]
  },
  {
   "cell_type": "code",
   "execution_count": 24,
   "id": "cece61ad",
   "metadata": {
    "colab": {
     "base_uri": "https://localhost:8080/",
     "height": 423
    },
    "executionInfo": {
     "elapsed": 4,
     "status": "ok",
     "timestamp": 1696505161487,
     "user": {
      "displayName": "Aayush Adhikari",
      "userId": "12220140506292291733"
     },
     "user_tz": -345
    },
    "id": "cece61ad",
    "outputId": "66f0618a-4fe4-49a8-f857-7e5ed13dfd58"
   },
   "outputs": [
    {
     "data": {
      "text/html": [
       "<div>\n",
       "<style scoped>\n",
       "    .dataframe tbody tr th:only-of-type {\n",
       "        vertical-align: middle;\n",
       "    }\n",
       "\n",
       "    .dataframe tbody tr th {\n",
       "        vertical-align: top;\n",
       "    }\n",
       "\n",
       "    .dataframe thead th {\n",
       "        text-align: right;\n",
       "    }\n",
       "</style>\n",
       "<table border=\"1\" class=\"dataframe\">\n",
       "  <thead>\n",
       "    <tr style=\"text-align: right;\">\n",
       "      <th></th>\n",
       "      <th>Age</th>\n",
       "      <th>Years of Experience</th>\n",
       "      <th>Salary</th>\n",
       "      <th>Male</th>\n",
       "      <th>Bachelor's</th>\n",
       "      <th>Master's</th>\n",
       "      <th>PhD</th>\n",
       "    </tr>\n",
       "  </thead>\n",
       "  <tbody>\n",
       "    <tr>\n",
       "      <th>0</th>\n",
       "      <td>32.0</td>\n",
       "      <td>5.0</td>\n",
       "      <td>90000.0</td>\n",
       "      <td>1</td>\n",
       "      <td>1</td>\n",
       "      <td>0</td>\n",
       "      <td>0</td>\n",
       "    </tr>\n",
       "    <tr>\n",
       "      <th>1</th>\n",
       "      <td>28.0</td>\n",
       "      <td>3.0</td>\n",
       "      <td>65000.0</td>\n",
       "      <td>0</td>\n",
       "      <td>0</td>\n",
       "      <td>1</td>\n",
       "      <td>0</td>\n",
       "    </tr>\n",
       "    <tr>\n",
       "      <th>2</th>\n",
       "      <td>45.0</td>\n",
       "      <td>15.0</td>\n",
       "      <td>150000.0</td>\n",
       "      <td>1</td>\n",
       "      <td>0</td>\n",
       "      <td>0</td>\n",
       "      <td>1</td>\n",
       "    </tr>\n",
       "    <tr>\n",
       "      <th>3</th>\n",
       "      <td>36.0</td>\n",
       "      <td>7.0</td>\n",
       "      <td>60000.0</td>\n",
       "      <td>0</td>\n",
       "      <td>1</td>\n",
       "      <td>0</td>\n",
       "      <td>0</td>\n",
       "    </tr>\n",
       "    <tr>\n",
       "      <th>4</th>\n",
       "      <td>52.0</td>\n",
       "      <td>20.0</td>\n",
       "      <td>200000.0</td>\n",
       "      <td>1</td>\n",
       "      <td>0</td>\n",
       "      <td>1</td>\n",
       "      <td>0</td>\n",
       "    </tr>\n",
       "    <tr>\n",
       "      <th>...</th>\n",
       "      <td>...</td>\n",
       "      <td>...</td>\n",
       "      <td>...</td>\n",
       "      <td>...</td>\n",
       "      <td>...</td>\n",
       "      <td>...</td>\n",
       "      <td>...</td>\n",
       "    </tr>\n",
       "    <tr>\n",
       "      <th>370</th>\n",
       "      <td>35.0</td>\n",
       "      <td>8.0</td>\n",
       "      <td>85000.0</td>\n",
       "      <td>0</td>\n",
       "      <td>1</td>\n",
       "      <td>0</td>\n",
       "      <td>0</td>\n",
       "    </tr>\n",
       "    <tr>\n",
       "      <th>371</th>\n",
       "      <td>43.0</td>\n",
       "      <td>19.0</td>\n",
       "      <td>170000.0</td>\n",
       "      <td>1</td>\n",
       "      <td>0</td>\n",
       "      <td>1</td>\n",
       "      <td>0</td>\n",
       "    </tr>\n",
       "    <tr>\n",
       "      <th>372</th>\n",
       "      <td>29.0</td>\n",
       "      <td>2.0</td>\n",
       "      <td>40000.0</td>\n",
       "      <td>0</td>\n",
       "      <td>1</td>\n",
       "      <td>0</td>\n",
       "      <td>0</td>\n",
       "    </tr>\n",
       "    <tr>\n",
       "      <th>373</th>\n",
       "      <td>34.0</td>\n",
       "      <td>7.0</td>\n",
       "      <td>90000.0</td>\n",
       "      <td>1</td>\n",
       "      <td>1</td>\n",
       "      <td>0</td>\n",
       "      <td>0</td>\n",
       "    </tr>\n",
       "    <tr>\n",
       "      <th>374</th>\n",
       "      <td>44.0</td>\n",
       "      <td>15.0</td>\n",
       "      <td>150000.0</td>\n",
       "      <td>0</td>\n",
       "      <td>0</td>\n",
       "      <td>0</td>\n",
       "      <td>1</td>\n",
       "    </tr>\n",
       "  </tbody>\n",
       "</table>\n",
       "<p>373 rows × 7 columns</p>\n",
       "</div>"
      ],
      "text/plain": [
       "      Age  Years of Experience    Salary  Male  Bachelor's  Master's  PhD\n",
       "0    32.0                  5.0   90000.0     1           1         0    0\n",
       "1    28.0                  3.0   65000.0     0           0         1    0\n",
       "2    45.0                 15.0  150000.0     1           0         0    1\n",
       "3    36.0                  7.0   60000.0     0           1         0    0\n",
       "4    52.0                 20.0  200000.0     1           0         1    0\n",
       "..    ...                  ...       ...   ...         ...       ...  ...\n",
       "370  35.0                  8.0   85000.0     0           1         0    0\n",
       "371  43.0                 19.0  170000.0     1           0         1    0\n",
       "372  29.0                  2.0   40000.0     0           1         0    0\n",
       "373  34.0                  7.0   90000.0     1           1         0    0\n",
       "374  44.0                 15.0  150000.0     0           0         0    1\n",
       "\n",
       "[373 rows x 7 columns]"
      ]
     },
     "execution_count": 24,
     "metadata": {},
     "output_type": "execute_result"
    }
   ],
   "source": [
    "auto = auto.drop(['Gender','Education Level'],axis = 1)\n",
    "auto"
   ]
  },
  {
   "cell_type": "code",
   "execution_count": 25,
   "id": "c9b60bcb",
   "metadata": {
    "colab": {
     "base_uri": "https://localhost:8080/",
     "height": 269
    },
    "executionInfo": {
     "elapsed": 3,
     "status": "ok",
     "timestamp": 1696505162099,
     "user": {
      "displayName": "Aayush Adhikari",
      "userId": "12220140506292291733"
     },
     "user_tz": -345
    },
    "id": "c9b60bcb",
    "outputId": "aaa77d3f-ceb7-4245-9510-753d73c8400f"
   },
   "outputs": [
    {
     "data": {
      "text/html": [
       "<div>\n",
       "<style scoped>\n",
       "    .dataframe tbody tr th:only-of-type {\n",
       "        vertical-align: middle;\n",
       "    }\n",
       "\n",
       "    .dataframe tbody tr th {\n",
       "        vertical-align: top;\n",
       "    }\n",
       "\n",
       "    .dataframe thead th {\n",
       "        text-align: right;\n",
       "    }\n",
       "</style>\n",
       "<table border=\"1\" class=\"dataframe\">\n",
       "  <thead>\n",
       "    <tr style=\"text-align: right;\">\n",
       "      <th></th>\n",
       "      <th>Age</th>\n",
       "      <th>Years of Experience</th>\n",
       "      <th>Salary</th>\n",
       "      <th>Male</th>\n",
       "      <th>Bachelor's</th>\n",
       "      <th>Master's</th>\n",
       "      <th>PhD</th>\n",
       "    </tr>\n",
       "  </thead>\n",
       "  <tbody>\n",
       "    <tr>\n",
       "      <th>Age</th>\n",
       "      <td>1.000000</td>\n",
       "      <td>0.979128</td>\n",
       "      <td>0.922335</td>\n",
       "      <td>-0.020324</td>\n",
       "      <td>-0.541733</td>\n",
       "      <td>0.281897</td>\n",
       "      <td>0.411183</td>\n",
       "    </tr>\n",
       "    <tr>\n",
       "      <th>Years of Experience</th>\n",
       "      <td>0.979128</td>\n",
       "      <td>1.000000</td>\n",
       "      <td>0.930338</td>\n",
       "      <td>0.002884</td>\n",
       "      <td>-0.573775</td>\n",
       "      <td>0.306961</td>\n",
       "      <td>0.424752</td>\n",
       "    </tr>\n",
       "    <tr>\n",
       "      <th>Salary</th>\n",
       "      <td>0.922335</td>\n",
       "      <td>0.930338</td>\n",
       "      <td>1.000000</td>\n",
       "      <td>0.071106</td>\n",
       "      <td>-0.657181</td>\n",
       "      <td>0.362061</td>\n",
       "      <td>0.473073</td>\n",
       "    </tr>\n",
       "    <tr>\n",
       "      <th>Male</th>\n",
       "      <td>-0.020324</td>\n",
       "      <td>0.002884</td>\n",
       "      <td>0.071106</td>\n",
       "      <td>1.000000</td>\n",
       "      <td>0.049259</td>\n",
       "      <td>-0.036219</td>\n",
       "      <td>-0.023827</td>\n",
       "    </tr>\n",
       "    <tr>\n",
       "      <th>Bachelor's</th>\n",
       "      <td>-0.541733</td>\n",
       "      <td>-0.573775</td>\n",
       "      <td>-0.657181</td>\n",
       "      <td>0.049259</td>\n",
       "      <td>1.000000</td>\n",
       "      <td>-0.731944</td>\n",
       "      <td>-0.487964</td>\n",
       "    </tr>\n",
       "    <tr>\n",
       "      <th>Master's</th>\n",
       "      <td>0.281897</td>\n",
       "      <td>0.306961</td>\n",
       "      <td>0.362061</td>\n",
       "      <td>-0.036219</td>\n",
       "      <td>-0.731944</td>\n",
       "      <td>1.000000</td>\n",
       "      <td>-0.237577</td>\n",
       "    </tr>\n",
       "    <tr>\n",
       "      <th>PhD</th>\n",
       "      <td>0.411183</td>\n",
       "      <td>0.424752</td>\n",
       "      <td>0.473073</td>\n",
       "      <td>-0.023827</td>\n",
       "      <td>-0.487964</td>\n",
       "      <td>-0.237577</td>\n",
       "      <td>1.000000</td>\n",
       "    </tr>\n",
       "  </tbody>\n",
       "</table>\n",
       "</div>"
      ],
      "text/plain": [
       "                          Age  Years of Experience    Salary      Male  \\\n",
       "Age                  1.000000             0.979128  0.922335 -0.020324   \n",
       "Years of Experience  0.979128             1.000000  0.930338  0.002884   \n",
       "Salary               0.922335             0.930338  1.000000  0.071106   \n",
       "Male                -0.020324             0.002884  0.071106  1.000000   \n",
       "Bachelor's          -0.541733            -0.573775 -0.657181  0.049259   \n",
       "Master's             0.281897             0.306961  0.362061 -0.036219   \n",
       "PhD                  0.411183             0.424752  0.473073 -0.023827   \n",
       "\n",
       "                     Bachelor's  Master's       PhD  \n",
       "Age                   -0.541733  0.281897  0.411183  \n",
       "Years of Experience   -0.573775  0.306961  0.424752  \n",
       "Salary                -0.657181  0.362061  0.473073  \n",
       "Male                   0.049259 -0.036219 -0.023827  \n",
       "Bachelor's             1.000000 -0.731944 -0.487964  \n",
       "Master's              -0.731944  1.000000 -0.237577  \n",
       "PhD                   -0.487964 -0.237577  1.000000  "
      ]
     },
     "execution_count": 25,
     "metadata": {},
     "output_type": "execute_result"
    }
   ],
   "source": [
    "auto.corr()"
   ]
  },
  {
   "cell_type": "code",
   "execution_count": 26,
   "id": "ULyeUPZhgqcY",
   "metadata": {
    "colab": {
     "base_uri": "https://localhost:8080/",
     "height": 414
    },
    "executionInfo": {
     "elapsed": 1036,
     "status": "ok",
     "timestamp": 1696505163990,
     "user": {
      "displayName": "Aayush Adhikari",
      "userId": "12220140506292291733"
     },
     "user_tz": -345
    },
    "id": "ULyeUPZhgqcY",
    "outputId": "246ac6ea-566e-4b15-de2d-4fa90f74b2c5"
   },
   "outputs": [
    {
     "data": {
      "image/png": "[encoded data removed]",
      "text/plain": [
       "<Figure size 1500x500 with 2 Axes>"
      ]
     },
     "metadata": {},
     "output_type": "display_data"
    }
   ],
   "source": [
    "# Starting machine learning\n",
    "import seaborn as sns\n",
    "plt.figure(figsize=(15,5))\n",
    "sns.heatmap(auto.corr(),annot=True)\n",
    "plt.show()"
   ]
  },
  {
   "cell_type": "code",
   "execution_count": 27,
   "id": "eXmoCoygU6Uj",
   "metadata": {
    "colab": {
     "base_uri": "https://localhost:8080/",
     "height": 423
    },
    "executionInfo": {
     "elapsed": 3,
     "status": "ok",
     "timestamp": 1696505166313,
     "user": {
      "displayName": "Aayush Adhikari",
      "userId": "12220140506292291733"
     },
     "user_tz": -345
    },
    "id": "eXmoCoygU6Uj",
    "outputId": "80da6bc3-8afb-4562-93bb-92b1555cb74f"
   },
   "outputs": [
    {
     "data": {
      "text/html": [
       "<div>\n",
       "<style scoped>\n",
       "    .dataframe tbody tr th:only-of-type {\n",
       "        vertical-align: middle;\n",
       "    }\n",
       "\n",
       "    .dataframe tbody tr th {\n",
       "        vertical-align: top;\n",
       "    }\n",
       "\n",
       "    .dataframe thead th {\n",
       "        text-align: right;\n",
       "    }\n",
       "</style>\n",
       "<table border=\"1\" class=\"dataframe\">\n",
       "  <thead>\n",
       "    <tr style=\"text-align: right;\">\n",
       "      <th></th>\n",
       "      <th>Age</th>\n",
       "      <th>Years of Experience</th>\n",
       "      <th>Salary</th>\n",
       "      <th>Bachelor's</th>\n",
       "      <th>Master's</th>\n",
       "      <th>PhD</th>\n",
       "    </tr>\n",
       "  </thead>\n",
       "  <tbody>\n",
       "    <tr>\n",
       "      <th>0</th>\n",
       "      <td>32.0</td>\n",
       "      <td>5.0</td>\n",
       "      <td>90000.0</td>\n",
       "      <td>1</td>\n",
       "      <td>0</td>\n",
       "      <td>0</td>\n",
       "    </tr>\n",
       "    <tr>\n",
       "      <th>1</th>\n",
       "      <td>28.0</td>\n",
       "      <td>3.0</td>\n",
       "      <td>65000.0</td>\n",
       "      <td>0</td>\n",
       "      <td>1</td>\n",
       "      <td>0</td>\n",
       "    </tr>\n",
       "    <tr>\n",
       "      <th>2</th>\n",
       "      <td>45.0</td>\n",
       "      <td>15.0</td>\n",
       "      <td>150000.0</td>\n",
       "      <td>0</td>\n",
       "      <td>0</td>\n",
       "      <td>1</td>\n",
       "    </tr>\n",
       "    <tr>\n",
       "      <th>3</th>\n",
       "      <td>36.0</td>\n",
       "      <td>7.0</td>\n",
       "      <td>60000.0</td>\n",
       "      <td>1</td>\n",
       "      <td>0</td>\n",
       "      <td>0</td>\n",
       "    </tr>\n",
       "    <tr>\n",
       "      <th>4</th>\n",
       "      <td>52.0</td>\n",
       "      <td>20.0</td>\n",
       "      <td>200000.0</td>\n",
       "      <td>0</td>\n",
       "      <td>1</td>\n",
       "      <td>0</td>\n",
       "    </tr>\n",
       "    <tr>\n",
       "      <th>...</th>\n",
       "      <td>...</td>\n",
       "      <td>...</td>\n",
       "      <td>...</td>\n",
       "      <td>...</td>\n",
       "      <td>...</td>\n",
       "      <td>...</td>\n",
       "    </tr>\n",
       "    <tr>\n",
       "      <th>370</th>\n",
       "      <td>35.0</td>\n",
       "      <td>8.0</td>\n",
       "      <td>85000.0</td>\n",
       "      <td>1</td>\n",
       "      <td>0</td>\n",
       "      <td>0</td>\n",
       "    </tr>\n",
       "    <tr>\n",
       "      <th>371</th>\n",
       "      <td>43.0</td>\n",
       "      <td>19.0</td>\n",
       "      <td>170000.0</td>\n",
       "      <td>0</td>\n",
       "      <td>1</td>\n",
       "      <td>0</td>\n",
       "    </tr>\n",
       "    <tr>\n",
       "      <th>372</th>\n",
       "      <td>29.0</td>\n",
       "      <td>2.0</td>\n",
       "      <td>40000.0</td>\n",
       "      <td>1</td>\n",
       "      <td>0</td>\n",
       "      <td>0</td>\n",
       "    </tr>\n",
       "    <tr>\n",
       "      <th>373</th>\n",
       "      <td>34.0</td>\n",
       "      <td>7.0</td>\n",
       "      <td>90000.0</td>\n",
       "      <td>1</td>\n",
       "      <td>0</td>\n",
       "      <td>0</td>\n",
       "    </tr>\n",
       "    <tr>\n",
       "      <th>374</th>\n",
       "      <td>44.0</td>\n",
       "      <td>15.0</td>\n",
       "      <td>150000.0</td>\n",
       "      <td>0</td>\n",
       "      <td>0</td>\n",
       "      <td>1</td>\n",
       "    </tr>\n",
       "  </tbody>\n",
       "</table>\n",
       "<p>373 rows × 6 columns</p>\n",
       "</div>"
      ],
      "text/plain": [
       "      Age  Years of Experience    Salary  Bachelor's  Master's  PhD\n",
       "0    32.0                  5.0   90000.0           1         0    0\n",
       "1    28.0                  3.0   65000.0           0         1    0\n",
       "2    45.0                 15.0  150000.0           0         0    1\n",
       "3    36.0                  7.0   60000.0           1         0    0\n",
       "4    52.0                 20.0  200000.0           0         1    0\n",
       "..    ...                  ...       ...         ...       ...  ...\n",
       "370  35.0                  8.0   85000.0           1         0    0\n",
       "371  43.0                 19.0  170000.0           0         1    0\n",
       "372  29.0                  2.0   40000.0           1         0    0\n",
       "373  34.0                  7.0   90000.0           1         0    0\n",
       "374  44.0                 15.0  150000.0           0         0    1\n",
       "\n",
       "[373 rows x 6 columns]"
      ]
     },
     "execution_count": 27,
     "metadata": {},
     "output_type": "execute_result"
    }
   ],
   "source": [
    "auto = auto.drop(['Male'],axis = 1)\n",
    "auto"
   ]
  },
  {
   "cell_type": "code",
   "execution_count": 28,
   "id": "272b4a93",
   "metadata": {
    "executionInfo": {
     "elapsed": 901,
     "status": "ok",
     "timestamp": 1696505168407,
     "user": {
      "displayName": "Aayush Adhikari",
      "userId": "12220140506292291733"
     },
     "user_tz": -345
    },
    "id": "272b4a93"
   },
   "outputs": [],
   "source": [
    "from sklearn.model_selection import train_test_split\n",
    "\n",
    "# We specify this so that the train and test data set always have the same rows, respectively\n",
    "df_train, df_test = train_test_split(auto, train_size = 0.85, test_size = 0.15, random_state = 1)"
   ]
  },
  {
   "cell_type": "code",
   "execution_count": 29,
   "id": "zIYTRyt0h468",
   "metadata": {
    "colab": {
     "base_uri": "https://localhost:8080/"
    },
    "executionInfo": {
     "elapsed": 4,
     "status": "ok",
     "timestamp": 1696505169000,
     "user": {
      "displayName": "Aayush Adhikari",
      "userId": "12220140506292291733"
     },
     "user_tz": -345
    },
    "id": "zIYTRyt0h468",
    "outputId": "299b6783-9848-4d01-f8f3-2de57c219196"
   },
   "outputs": [
    {
     "data": {
      "text/plain": [
       "(317, 6)"
      ]
     },
     "execution_count": 29,
     "metadata": {},
     "output_type": "execute_result"
    }
   ],
   "source": [
    "df_train.shape"
   ]
  },
  {
   "cell_type": "code",
   "execution_count": 30,
   "id": "6pAb4lY8h_k7",
   "metadata": {
    "colab": {
     "base_uri": "https://localhost:8080/"
    },
    "executionInfo": {
     "elapsed": 3,
     "status": "ok",
     "timestamp": 1696505169001,
     "user": {
      "displayName": "Aayush Adhikari",
      "userId": "12220140506292291733"
     },
     "user_tz": -345
    },
    "id": "6pAb4lY8h_k7",
    "outputId": "631b0717-b829-4532-ccb4-f2174fa1f1e9"
   },
   "outputs": [
    {
     "data": {
      "text/plain": [
       "(56, 6)"
      ]
     },
     "execution_count": 30,
     "metadata": {},
     "output_type": "execute_result"
    }
   ],
   "source": [
    "df_test.shape"
   ]
  },
  {
   "cell_type": "code",
   "execution_count": null,
   "id": "1PsJS-DATi50",
   "metadata": {
    "executionInfo": {
     "elapsed": 1,
     "status": "ok",
     "timestamp": 1696505169474,
     "user": {
      "displayName": "Aayush Adhikari",
      "userId": "12220140506292291733"
     },
     "user_tz": -345
    },
    "id": "1PsJS-DATi50"
   },
   "outputs": [],
   "source": []
  },
  {
   "cell_type": "code",
   "execution_count": 31,
   "id": "Ud-SlPkaFyr1",
   "metadata": {
    "executionInfo": {
     "elapsed": 2,
     "status": "ok",
     "timestamp": 1696505170493,
     "user": {
      "displayName": "Aayush Adhikari",
      "userId": "12220140506292291733"
     },
     "user_tz": -345
    },
    "id": "Ud-SlPkaFyr1"
   },
   "outputs": [],
   "source": [
    "from sklearn.linear_model import LinearRegression\n",
    "X_train = df_train[['Age','Years of Experience',\"Bachelor's\",\n",
    "                    \"Master's\",\"PhD\"]]\n",
    "\n",
    "y_train = df_train['Salary']\n",
    "# df_test_predict = X_train.iloc[0:1]\n",
    "lm = LinearRegression()\n",
    "model = lm.fit(X_train, y_train)\n",
    "\n",
    "# model.predict(df_test_predict)"
   ]
  },
  {
   "cell_type": "code",
   "execution_count": 32,
   "id": "5SZYJSAXPSv3",
   "metadata": {
    "colab": {
     "base_uri": "https://localhost:8080/",
     "height": 133
    },
    "executionInfo": {
     "elapsed": 3,
     "status": "ok",
     "timestamp": 1696505171571,
     "user": {
      "displayName": "Aayush Adhikari",
      "userId": "12220140506292291733"
     },
     "user_tz": -345
    },
    "id": "5SZYJSAXPSv3",
    "outputId": "a24fefda-208f-4b9a-826e-716218d7ef6f"
   },
   "outputs": [
    {
     "name": "stdout",
     "output_type": "stream",
     "text": [
      "Actual Salary 314    85000.0\n",
      "Name: Salary, dtype: float64\n",
      "predicted Salary [80297.64326552]\n"
     ]
    },
    {
     "data": {
      "text/html": [
       "<div>\n",
       "<style scoped>\n",
       "    .dataframe tbody tr th:only-of-type {\n",
       "        vertical-align: middle;\n",
       "    }\n",
       "\n",
       "    .dataframe tbody tr th {\n",
       "        vertical-align: top;\n",
       "    }\n",
       "\n",
       "    .dataframe thead th {\n",
       "        text-align: right;\n",
       "    }\n",
       "</style>\n",
       "<table border=\"1\" class=\"dataframe\">\n",
       "  <thead>\n",
       "    <tr style=\"text-align: right;\">\n",
       "      <th></th>\n",
       "      <th>Age</th>\n",
       "      <th>Years of Experience</th>\n",
       "      <th>Bachelor's</th>\n",
       "      <th>Master's</th>\n",
       "      <th>PhD</th>\n",
       "    </tr>\n",
       "  </thead>\n",
       "  <tbody>\n",
       "    <tr>\n",
       "      <th>314</th>\n",
       "      <td>35.0</td>\n",
       "      <td>8.0</td>\n",
       "      <td>1</td>\n",
       "      <td>0</td>\n",
       "      <td>0</td>\n",
       "    </tr>\n",
       "  </tbody>\n",
       "</table>\n",
       "</div>"
      ],
      "text/plain": [
       "      Age  Years of Experience  Bachelor's  Master's  PhD\n",
       "314  35.0                  8.0           1         0    0"
      ]
     },
     "execution_count": 32,
     "metadata": {},
     "output_type": "execute_result"
    }
   ],
   "source": [
    "# Testing\n",
    "data = df_test.iloc[10:11]\n",
    "actual_salary = data.pop('Salary')\n",
    "\n",
    "# # print(data)\n",
    "predicted_salary = model.predict(data)\n",
    "print(\"Actual Salary\",actual_salary)\n",
    "print(\"predicted Salary\",predicted_salary)\n",
    "\n",
    "# print(df_test.iloc[0:1])\n",
    "data"
   ]
  },
  {
   "cell_type": "code",
   "execution_count": 33,
   "id": "KdmGg8zVl-jY",
   "metadata": {
    "colab": {
     "base_uri": "https://localhost:8080/"
    },
    "executionInfo": {
     "elapsed": 2,
     "status": "ok",
     "timestamp": 1696505173950,
     "user": {
      "displayName": "Aayush Adhikari",
      "userId": "12220140506292291733"
     },
     "user_tz": -345
    },
    "id": "KdmGg8zVl-jY",
    "outputId": "989ad288-9e64-4664-dd83-ef0d6d62e002"
   },
   "outputs": [
    {
     "name": "stdout",
     "output_type": "stream",
     "text": [
      "Actual Salary 314    85000.0\n",
      "Name: Salary, dtype: float64\n",
      "predicted Salary [125485.98171601]\n"
     ]
    }
   ],
   "source": [
    "data = {'Age':[40],\n",
    "        'Years of Experience':[10.5],\n",
    "        \"Bachelor's\":[0],\n",
    "        \"Master's\":[0],\n",
    "        \"PhD\":[1]}\n",
    "df = pd.DataFrame(data)\n",
    "predicted_salary = model.predict(df)\n",
    "print(\"Actual Salary\",actual_salary)\n",
    "print(\"predicted Salary\",predicted_salary)"
   ]
  },
  {
   "cell_type": "code",
   "execution_count": null,
   "id": "vxlSv2utk-PV",
   "metadata": {
    "executionInfo": {
     "elapsed": 2,
     "status": "ok",
     "timestamp": 1696505175538,
     "user": {
      "displayName": "Aayush Adhikari",
      "userId": "12220140506292291733"
     },
     "user_tz": -345
    },
    "id": "vxlSv2utk-PV"
   },
   "outputs": [],
   "source": []
  },
  {
   "cell_type": "code",
   "execution_count": 34,
   "id": "08f6653a",
   "metadata": {
    "colab": {
     "base_uri": "https://localhost:8080/"
    },
    "executionInfo": {
     "elapsed": 2,
     "status": "ok",
     "timestamp": 1696505176598,
     "user": {
      "displayName": "Aayush Adhikari",
      "userId": "12220140506292291733"
     },
     "user_tz": -345
    },
    "id": "08f6653a",
    "outputId": "55a5b114-250f-47d4-a955-5caea221848a"
   },
   "outputs": [
    {
     "data": {
      "text/plain": [
       "(317,)"
      ]
     },
     "execution_count": 34,
     "metadata": {},
     "output_type": "execute_result"
    }
   ],
   "source": [
    "y_train.shape"
   ]
  },
  {
   "cell_type": "code",
   "execution_count": 35,
   "id": "b1d2ece2",
   "metadata": {
    "colab": {
     "base_uri": "https://localhost:8080/"
    },
    "executionInfo": {
     "elapsed": 3,
     "status": "ok",
     "timestamp": 1696505177081,
     "user": {
      "displayName": "Aayush Adhikari",
      "userId": "12220140506292291733"
     },
     "user_tz": -345
    },
    "id": "b1d2ece2",
    "outputId": "2258e8d0-5d70-41ed-ee86-44d02c8bee5a"
   },
   "outputs": [
    {
     "data": {
      "text/plain": [
       "(317,)"
      ]
     },
     "execution_count": 35,
     "metadata": {},
     "output_type": "execute_result"
    }
   ],
   "source": [
    "model.predict(X_train).shape"
   ]
  },
  {
   "cell_type": "code",
   "execution_count": 36,
   "id": "sz41ycd5fd7-",
   "metadata": {
    "colab": {
     "base_uri": "https://localhost:8080/",
     "height": 449
    },
    "executionInfo": {
     "elapsed": 1220,
     "status": "ok",
     "timestamp": 1696505178964,
     "user": {
      "displayName": "Aayush Adhikari",
      "userId": "12220140506292291733"
     },
     "user_tz": -345
    },
    "id": "sz41ycd5fd7-",
    "outputId": "d0ac07f0-691e-47e7-84e9-52a910a798de"
   },
   "outputs": [
    {
     "data": {
      "image/png": "[encoded data removed]",
      "text/plain": [
       "<Figure size 640x480 with 1 Axes>"
      ]
     },
     "metadata": {},
     "output_type": "display_data"
    }
   ],
   "source": [
    "plt.scatter(y_train,model.predict(X_train),color = 'red')\n",
    "plt.xlabel('Actual Salary')\n",
    "plt.ylabel('Predicted Salary')\n",
    "plt.show()"
   ]
  }
 ],
 "metadata": {
  "colab": {
   "provenance": []
  },
  "kernelspec": {
   "display_name": "Python 3 (ipykernel)",
   "language": "python",
   "name": "python3"
  },
  "language_info": {
   "codemirror_mode": {
    "name": "ipython",
    "version": 3
   },
   "file_extension": ".py",
   "mimetype": "text/x-python",
   "name": "python",
   "nbconvert_exporter": "python",
   "pygments_lexer": "ipython3",
   "version": "3.9.13"
  }
 },
 "nbformat": 4,
 "nbformat_minor": 5
}
